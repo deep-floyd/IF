version https://git-lfs.github.com/spec/v1
oid sha256:94eeb3cf9be3a0044e8c680d9d1aad30285b77f721678ec76885e9a55cfd4eaa
size 16777216
