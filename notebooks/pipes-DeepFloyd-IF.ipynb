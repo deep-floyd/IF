version https://git-lfs.github.com/spec/v1
oid sha256:9bdd9dca18fad51932e6af86ecc5b6f3b0c61d02dcbd620541bc2cd48c9e101f
size 27648967
